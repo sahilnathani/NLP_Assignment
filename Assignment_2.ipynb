{
  "nbformat": 4,
  "nbformat_minor": 0,
  "metadata": {
    "colab": {
      "name": "Assignment_2.ipynb",
      "provenance": [],
      "authorship_tag": "ABX9TyPT6cLLHNF70T1g1DnPtR0g",
      "include_colab_link": true
    },
    "kernelspec": {
      "name": "python3",
      "display_name": "Python 3"
    }
  },
  "cells": [
    {
      "cell_type": "markdown",
      "metadata": {
        "id": "view-in-github",
        "colab_type": "text"
      },
      "source": [
        "<a href=\"https://colab.research.google.com/github/sahilnathani/NLP_Assignment/blob/master/Assignment_2.ipynb\" target=\"_parent\"><img src=\"https://colab.research.google.com/assets/colab-badge.svg\" alt=\"Open In Colab\"/></a>"
      ]
    },
    {
      "cell_type": "code",
      "metadata": {
        "id": "0Qf00BQo0o9f",
        "colab_type": "code",
        "colab": {
          "base_uri": "https://localhost:8080/",
          "height": 867
        },
        "outputId": "7289cdbe-59f5-45db-fba2-4b3d401dd893"
      },
      "source": [
        "import nltk\n",
        "nltk.download(\"popular\")"
      ],
      "execution_count": 2,
      "outputs": [
        {
          "output_type": "stream",
          "text": [
            "[nltk_data] Downloading collection 'popular'\n",
            "[nltk_data]    | \n",
            "[nltk_data]    | Downloading package cmudict to /root/nltk_data...\n",
            "[nltk_data]    |   Package cmudict is already up-to-date!\n",
            "[nltk_data]    | Downloading package gazetteers to /root/nltk_data...\n",
            "[nltk_data]    |   Package gazetteers is already up-to-date!\n",
            "[nltk_data]    | Downloading package genesis to /root/nltk_data...\n",
            "[nltk_data]    |   Package genesis is already up-to-date!\n",
            "[nltk_data]    | Downloading package gutenberg to /root/nltk_data...\n",
            "[nltk_data]    |   Package gutenberg is already up-to-date!\n",
            "[nltk_data]    | Downloading package inaugural to /root/nltk_data...\n",
            "[nltk_data]    |   Package inaugural is already up-to-date!\n",
            "[nltk_data]    | Downloading package movie_reviews to\n",
            "[nltk_data]    |     /root/nltk_data...\n",
            "[nltk_data]    |   Package movie_reviews is already up-to-date!\n",
            "[nltk_data]    | Downloading package names to /root/nltk_data...\n",
            "[nltk_data]    |   Package names is already up-to-date!\n",
            "[nltk_data]    | Downloading package shakespeare to /root/nltk_data...\n",
            "[nltk_data]    |   Package shakespeare is already up-to-date!\n",
            "[nltk_data]    | Downloading package stopwords to /root/nltk_data...\n",
            "[nltk_data]    |   Package stopwords is already up-to-date!\n",
            "[nltk_data]    | Downloading package treebank to /root/nltk_data...\n",
            "[nltk_data]    |   Package treebank is already up-to-date!\n",
            "[nltk_data]    | Downloading package twitter_samples to\n",
            "[nltk_data]    |     /root/nltk_data...\n",
            "[nltk_data]    |   Package twitter_samples is already up-to-date!\n",
            "[nltk_data]    | Downloading package omw to /root/nltk_data...\n",
            "[nltk_data]    |   Package omw is already up-to-date!\n",
            "[nltk_data]    | Downloading package wordnet to /root/nltk_data...\n",
            "[nltk_data]    |   Package wordnet is already up-to-date!\n",
            "[nltk_data]    | Downloading package wordnet_ic to /root/nltk_data...\n",
            "[nltk_data]    |   Package wordnet_ic is already up-to-date!\n",
            "[nltk_data]    | Downloading package words to /root/nltk_data...\n",
            "[nltk_data]    |   Package words is already up-to-date!\n",
            "[nltk_data]    | Downloading package maxent_ne_chunker to\n",
            "[nltk_data]    |     /root/nltk_data...\n",
            "[nltk_data]    |   Package maxent_ne_chunker is already up-to-date!\n",
            "[nltk_data]    | Downloading package punkt to /root/nltk_data...\n",
            "[nltk_data]    |   Package punkt is already up-to-date!\n",
            "[nltk_data]    | Downloading package snowball_data to\n",
            "[nltk_data]    |     /root/nltk_data...\n",
            "[nltk_data]    |   Package snowball_data is already up-to-date!\n",
            "[nltk_data]    | Downloading package averaged_perceptron_tagger to\n",
            "[nltk_data]    |     /root/nltk_data...\n",
            "[nltk_data]    |   Package averaged_perceptron_tagger is already up-\n",
            "[nltk_data]    |       to-date!\n",
            "[nltk_data]    | \n",
            "[nltk_data]  Done downloading collection popular\n"
          ],
          "name": "stdout"
        },
        {
          "output_type": "execute_result",
          "data": {
            "text/plain": [
              "True"
            ]
          },
          "metadata": {
            "tags": []
          },
          "execution_count": 2
        }
      ]
    },
    {
      "cell_type": "code",
      "metadata": {
        "id": "hYUlnsCd1ghG",
        "colab_type": "code",
        "colab": {}
      },
      "source": [
        "data = \"\"\"Born in Guinea-Bissau, Fati moved to Herrera, Seville with his family at the age of six, when his older brother Braima signed for Sevilla. \n",
        "              Another brother Miguel is also a footballer. His father is ex-footballer Bori Fati, who was from Guinea-Bissau. After emigrating to Portugal, \n",
        "              he set up some teams in the lower leagues. There, he read a story of the Andalusian town Marinaleda, a self-declared communist utopia \n",
        "              located near Seville, that was offering work to immigrants. After begging for food on the streets of Marinaleda, he met the \n",
        "              mayor Juan Manuel Sánchez Gordillo and found a job as a driver. He then settled in the nearby town of Herrera, where \n",
        "              Ansu spent most of his childhood and started his football training. Though born in Guinea-Bissau, Bori has said he is a Sevillian\"\"\"\n"
      ],
      "execution_count": 3,
      "outputs": []
    },
    {
      "cell_type": "code",
      "metadata": {
        "id": "a9wDVa-h2D1b",
        "colab_type": "code",
        "colab": {
          "base_uri": "https://localhost:8080/",
          "height": 55
        },
        "outputId": "133a4a8e-9d8b-4b74-956a-60cd66dc5072"
      },
      "source": [
        "#Word_Tokenization\n",
        "\n",
        "from nltk import word_tokenize\n",
        "print(word_tokenize(data))"
      ],
      "execution_count": 4,
      "outputs": [
        {
          "output_type": "stream",
          "text": [
            "['Born', 'in', 'Guinea-Bissau', ',', 'Fati', 'moved', 'to', 'Herrera', ',', 'Seville', 'with', 'his', 'family', 'at', 'the', 'age', 'of', 'six', ',', 'when', 'his', 'older', 'brother', 'Braima', 'signed', 'for', 'Sevilla', '.', 'Another', 'brother', 'Miguel', 'is', 'also', 'a', 'footballer', '.', 'His', 'father', 'is', 'ex-footballer', 'Bori', 'Fati', ',', 'who', 'was', 'from', 'Guinea-Bissau', '.', 'After', 'emigrating', 'to', 'Portugal', ',', 'he', 'set', 'up', 'some', 'teams', 'in', 'the', 'lower', 'leagues', '.', 'There', ',', 'he', 'read', 'a', 'story', 'of', 'the', 'Andalusian', 'town', 'Marinaleda', ',', 'a', 'self-declared', 'communist', 'utopia', 'located', 'near', 'Seville', ',', 'that', 'was', 'offering', 'work', 'to', 'immigrants', '.', 'After', 'begging', 'for', 'food', 'on', 'the', 'streets', 'of', 'Marinaleda', ',', 'he', 'met', 'the', 'mayor', 'Juan', 'Manuel', 'Sánchez', 'Gordillo', 'and', 'found', 'a', 'job', 'as', 'a', 'driver', '.', 'He', 'then', 'settled', 'in', 'the', 'nearby', 'town', 'of', 'Herrera', ',', 'where', 'Ansu', 'spent', 'most', 'of', 'his', 'childhood', 'and', 'started', 'his', 'football', 'training', '.', 'Though', 'born', 'in', 'Guinea-Bissau', ',', 'Bori', 'has', 'said', 'he', 'is', 'a', 'Sevillian']\n"
          ],
          "name": "stdout"
        }
      ]
    },
    {
      "cell_type": "code",
      "metadata": {
        "id": "77grcC262Ojj",
        "colab_type": "code",
        "colab": {
          "base_uri": "https://localhost:8080/",
          "height": 55
        },
        "outputId": "f430e07b-95f7-49e8-a1a4-7a9ef8eee772"
      },
      "source": [
        "#Sentence_Tokenization\n",
        "\n",
        "from nltk.tokenize import sent_tokenize\n",
        "print(sent_tokenize(data))\n"
      ],
      "execution_count": 6,
      "outputs": [
        {
          "output_type": "stream",
          "text": [
            "['Born in Guinea-Bissau, Fati moved to Herrera, Seville with his family at the age of six, when his older brother Braima signed for Sevilla.', 'Another brother Miguel is also a footballer.', 'His father is ex-footballer Bori Fati, who was from Guinea-Bissau.', 'After emigrating to Portugal, \\n              he set up some teams in the lower leagues.', 'There, he read a story of the Andalusian town Marinaleda, a self-declared communist utopia \\n              located near Seville, that was offering work to immigrants.', 'After begging for food on the streets of Marinaleda, he met the \\n              mayor Juan Manuel Sánchez Gordillo and found a job as a driver.', 'He then settled in the nearby town of Herrera, where \\n              Ansu spent most of his childhood and started his football training.', 'Though born in Guinea-Bissau, Bori has said he is a Sevillian']\n"
          ],
          "name": "stdout"
        }
      ]
    },
    {
      "cell_type": "code",
      "metadata": {
        "id": "c7INgaA52WNf",
        "colab_type": "code",
        "colab": {
          "base_uri": "https://localhost:8080/",
          "height": 55
        },
        "outputId": "206c09c9-197f-4201-e88b-b165e09366fe"
      },
      "source": [
        "#Tree-Bank Tokenization\n",
        "from nltk.tokenize import TreebankWordTokenizer \n",
        "  \n",
        "tokenizer = TreebankWordTokenizer() \n",
        "print(tokenizer.tokenize(data))"
      ],
      "execution_count": 7,
      "outputs": [
        {
          "output_type": "stream",
          "text": [
            "['Born', 'in', 'Guinea-Bissau', ',', 'Fati', 'moved', 'to', 'Herrera', ',', 'Seville', 'with', 'his', 'family', 'at', 'the', 'age', 'of', 'six', ',', 'when', 'his', 'older', 'brother', 'Braima', 'signed', 'for', 'Sevilla.', 'Another', 'brother', 'Miguel', 'is', 'also', 'a', 'footballer.', 'His', 'father', 'is', 'ex-footballer', 'Bori', 'Fati', ',', 'who', 'was', 'from', 'Guinea-Bissau.', 'After', 'emigrating', 'to', 'Portugal', ',', 'he', 'set', 'up', 'some', 'teams', 'in', 'the', 'lower', 'leagues.', 'There', ',', 'he', 'read', 'a', 'story', 'of', 'the', 'Andalusian', 'town', 'Marinaleda', ',', 'a', 'self-declared', 'communist', 'utopia', 'located', 'near', 'Seville', ',', 'that', 'was', 'offering', 'work', 'to', 'immigrants.', 'After', 'begging', 'for', 'food', 'on', 'the', 'streets', 'of', 'Marinaleda', ',', 'he', 'met', 'the', 'mayor', 'Juan', 'Manuel', 'Sánchez', 'Gordillo', 'and', 'found', 'a', 'job', 'as', 'a', 'driver.', 'He', 'then', 'settled', 'in', 'the', 'nearby', 'town', 'of', 'Herrera', ',', 'where', 'Ansu', 'spent', 'most', 'of', 'his', 'childhood', 'and', 'started', 'his', 'football', 'training.', 'Though', 'born', 'in', 'Guinea-Bissau', ',', 'Bori', 'has', 'said', 'he', 'is', 'a', 'Sevillian']\n"
          ],
          "name": "stdout"
        }
      ]
    },
    {
      "cell_type": "code",
      "metadata": {
        "id": "vvru9Xvs2fF1",
        "colab_type": "code",
        "colab": {
          "base_uri": "https://localhost:8080/",
          "height": 35
        },
        "outputId": "3caed418-e397-4d3b-ee9e-2f9ee5c4ca80"
      },
      "source": [
        "from nltk.tokenize import RegexpTokenizer \n",
        "  \n",
        "tokenizer = RegexpTokenizer(\"[\\d']+\") \n",
        "words = \"My marks in scinec are 34, 56 in maths and 81 in english..\"\n",
        "tokenizer.tokenize(words)"
      ],
      "execution_count": 8,
      "outputs": [
        {
          "output_type": "execute_result",
          "data": {
            "text/plain": [
              "['34', '56', '81']"
            ]
          },
          "metadata": {
            "tags": []
          },
          "execution_count": 8
        }
      ]
    },
    {
      "cell_type": "code",
      "metadata": {
        "id": "H6BHi0Dl2vIQ",
        "colab_type": "code",
        "colab": {
          "base_uri": "https://localhost:8080/",
          "height": 55
        },
        "outputId": "57d18f22-0334-461f-eda3-24481be8cdb5"
      },
      "source": [
        "from nltk import SpaceTokenizer\n",
        "\n",
        "print(SpaceTokenizer().tokenize(data))"
      ],
      "execution_count": 9,
      "outputs": [
        {
          "output_type": "stream",
          "text": [
            "['Born', 'in', 'Guinea-Bissau,', 'Fati', 'moved', 'to', 'Herrera,', 'Seville', 'with', 'his', 'family', 'at', 'the', 'age', 'of', 'six,', 'when', 'his', 'older', 'brother', 'Braima', 'signed', 'for', 'Sevilla.', '\\n', '', '', '', '', '', '', '', '', '', '', '', '', '', 'Another', 'brother', 'Miguel', 'is', 'also', 'a', 'footballer.', 'His', 'father', 'is', 'ex-footballer', 'Bori', 'Fati,', 'who', 'was', 'from', 'Guinea-Bissau.', 'After', 'emigrating', 'to', 'Portugal,', '\\n', '', '', '', '', '', '', '', '', '', '', '', '', '', 'he', 'set', 'up', 'some', 'teams', 'in', 'the', 'lower', 'leagues.', 'There,', 'he', 'read', 'a', 'story', 'of', 'the', 'Andalusian', 'town', 'Marinaleda,', 'a', 'self-declared', 'communist', 'utopia', '\\n', '', '', '', '', '', '', '', '', '', '', '', '', '', 'located', 'near', 'Seville,', 'that', 'was', 'offering', 'work', 'to', 'immigrants.', 'After', 'begging', 'for', 'food', 'on', 'the', 'streets', 'of', 'Marinaleda,', 'he', 'met', 'the', '\\n', '', '', '', '', '', '', '', '', '', '', '', '', '', 'mayor', 'Juan', 'Manuel', 'Sánchez', 'Gordillo', 'and', 'found', 'a', 'job', 'as', 'a', 'driver.', 'He', 'then', 'settled', 'in', 'the', 'nearby', 'town', 'of', 'Herrera,', 'where', '\\n', '', '', '', '', '', '', '', '', '', '', '', '', '', 'Ansu', 'spent', 'most', 'of', 'his', 'childhood', 'and', 'started', 'his', 'football', 'training.', 'Though', 'born', 'in', 'Guinea-Bissau,', 'Bori', 'has', 'said', 'he', 'is', 'a', 'Sevillian']\n"
          ],
          "name": "stdout"
        }
      ]
    },
    {
      "cell_type": "code",
      "metadata": {
        "id": "n_w80h0D21JS",
        "colab_type": "code",
        "colab": {
          "base_uri": "https://localhost:8080/",
          "height": 52
        },
        "outputId": "f8e3637f-e404-4164-bef2-597e14c792bd"
      },
      "source": [
        "from nltk.corpus import stopwords\n",
        "from nltk.tokenize import word_tokenize\n",
        "\n",
        "ex= \"\"\"The quick brown fox jumps over the lazy dog\"\"\"\n",
        "\n",
        "stop_words = set(stopwords.words('english'))\n",
        "\n",
        "tokens = word_tokenize(ex)\n",
        "\n",
        "filter = [w for w in tokens if not w in stop_words]\n",
        "\n",
        "filter = []\n",
        "\n",
        "for w in tokens:\n",
        "    if w not in stop_words:\n",
        "        filter.append(w)\n",
        "\n",
        "print(\"StopWords:  \", tokens)\n",
        "print(\"No StopWords:  \", filter)\n"
      ],
      "execution_count": 10,
      "outputs": [
        {
          "output_type": "stream",
          "text": [
            "StopWords:   ['The', 'quick', 'brown', 'fox', 'jumps', 'over', 'the', 'lazy', 'dog']\n",
            "No StopWords:   ['The', 'quick', 'brown', 'fox', 'jumps', 'lazy', 'dog']\n"
          ],
          "name": "stdout"
        }
      ]
    },
    {
      "cell_type": "code",
      "metadata": {
        "id": "i3KVjUUy3hpz",
        "colab_type": "code",
        "colab": {
          "base_uri": "https://localhost:8080/",
          "height": 1000
        },
        "outputId": "265a7786-7ca1-49d9-eb5d-7cc92745e77c"
      },
      "source": [
        "#Stemming\n",
        "import nltk\n",
        "from nltk.stem.porter import PorterStemmer\n",
        "stemmer = PorterStemmer()\n",
        "tokens = nltk.word_tokenize(data)\n",
        "for w in tokens:\n",
        "       print(\"Actual: %s  Stem: %s\"  % (w, stemmer.stem(w)))"
      ],
      "execution_count": 12,
      "outputs": [
        {
          "output_type": "stream",
          "text": [
            "Actual: Born  Stem: born\n",
            "Actual: in  Stem: in\n",
            "Actual: Guinea-Bissau  Stem: guinea-bissau\n",
            "Actual: ,  Stem: ,\n",
            "Actual: Fati  Stem: fati\n",
            "Actual: moved  Stem: move\n",
            "Actual: to  Stem: to\n",
            "Actual: Herrera  Stem: herrera\n",
            "Actual: ,  Stem: ,\n",
            "Actual: Seville  Stem: sevil\n",
            "Actual: with  Stem: with\n",
            "Actual: his  Stem: hi\n",
            "Actual: family  Stem: famili\n",
            "Actual: at  Stem: at\n",
            "Actual: the  Stem: the\n",
            "Actual: age  Stem: age\n",
            "Actual: of  Stem: of\n",
            "Actual: six  Stem: six\n",
            "Actual: ,  Stem: ,\n",
            "Actual: when  Stem: when\n",
            "Actual: his  Stem: hi\n",
            "Actual: older  Stem: older\n",
            "Actual: brother  Stem: brother\n",
            "Actual: Braima  Stem: braima\n",
            "Actual: signed  Stem: sign\n",
            "Actual: for  Stem: for\n",
            "Actual: Sevilla  Stem: sevilla\n",
            "Actual: .  Stem: .\n",
            "Actual: Another  Stem: anoth\n",
            "Actual: brother  Stem: brother\n",
            "Actual: Miguel  Stem: miguel\n",
            "Actual: is  Stem: is\n",
            "Actual: also  Stem: also\n",
            "Actual: a  Stem: a\n",
            "Actual: footballer  Stem: footbal\n",
            "Actual: .  Stem: .\n",
            "Actual: His  Stem: hi\n",
            "Actual: father  Stem: father\n",
            "Actual: is  Stem: is\n",
            "Actual: ex-footballer  Stem: ex-footbal\n",
            "Actual: Bori  Stem: bori\n",
            "Actual: Fati  Stem: fati\n",
            "Actual: ,  Stem: ,\n",
            "Actual: who  Stem: who\n",
            "Actual: was  Stem: wa\n",
            "Actual: from  Stem: from\n",
            "Actual: Guinea-Bissau  Stem: guinea-bissau\n",
            "Actual: .  Stem: .\n",
            "Actual: After  Stem: after\n",
            "Actual: emigrating  Stem: emigr\n",
            "Actual: to  Stem: to\n",
            "Actual: Portugal  Stem: portug\n",
            "Actual: ,  Stem: ,\n",
            "Actual: he  Stem: he\n",
            "Actual: set  Stem: set\n",
            "Actual: up  Stem: up\n",
            "Actual: some  Stem: some\n",
            "Actual: teams  Stem: team\n",
            "Actual: in  Stem: in\n",
            "Actual: the  Stem: the\n",
            "Actual: lower  Stem: lower\n",
            "Actual: leagues  Stem: leagu\n",
            "Actual: .  Stem: .\n",
            "Actual: There  Stem: there\n",
            "Actual: ,  Stem: ,\n",
            "Actual: he  Stem: he\n",
            "Actual: read  Stem: read\n",
            "Actual: a  Stem: a\n",
            "Actual: story  Stem: stori\n",
            "Actual: of  Stem: of\n",
            "Actual: the  Stem: the\n",
            "Actual: Andalusian  Stem: andalusian\n",
            "Actual: town  Stem: town\n",
            "Actual: Marinaleda  Stem: marinaleda\n",
            "Actual: ,  Stem: ,\n",
            "Actual: a  Stem: a\n",
            "Actual: self-declared  Stem: self-declar\n",
            "Actual: communist  Stem: communist\n",
            "Actual: utopia  Stem: utopia\n",
            "Actual: located  Stem: locat\n",
            "Actual: near  Stem: near\n",
            "Actual: Seville  Stem: sevil\n",
            "Actual: ,  Stem: ,\n",
            "Actual: that  Stem: that\n",
            "Actual: was  Stem: wa\n",
            "Actual: offering  Stem: offer\n",
            "Actual: work  Stem: work\n",
            "Actual: to  Stem: to\n",
            "Actual: immigrants  Stem: immigr\n",
            "Actual: .  Stem: .\n",
            "Actual: After  Stem: after\n",
            "Actual: begging  Stem: beg\n",
            "Actual: for  Stem: for\n",
            "Actual: food  Stem: food\n",
            "Actual: on  Stem: on\n",
            "Actual: the  Stem: the\n",
            "Actual: streets  Stem: street\n",
            "Actual: of  Stem: of\n",
            "Actual: Marinaleda  Stem: marinaleda\n",
            "Actual: ,  Stem: ,\n",
            "Actual: he  Stem: he\n",
            "Actual: met  Stem: met\n",
            "Actual: the  Stem: the\n",
            "Actual: mayor  Stem: mayor\n",
            "Actual: Juan  Stem: juan\n",
            "Actual: Manuel  Stem: manuel\n",
            "Actual: Sánchez  Stem: sánchez\n",
            "Actual: Gordillo  Stem: gordillo\n",
            "Actual: and  Stem: and\n",
            "Actual: found  Stem: found\n",
            "Actual: a  Stem: a\n",
            "Actual: job  Stem: job\n",
            "Actual: as  Stem: as\n",
            "Actual: a  Stem: a\n",
            "Actual: driver  Stem: driver\n",
            "Actual: .  Stem: .\n",
            "Actual: He  Stem: He\n",
            "Actual: then  Stem: then\n",
            "Actual: settled  Stem: settl\n",
            "Actual: in  Stem: in\n",
            "Actual: the  Stem: the\n",
            "Actual: nearby  Stem: nearbi\n",
            "Actual: town  Stem: town\n",
            "Actual: of  Stem: of\n",
            "Actual: Herrera  Stem: herrera\n",
            "Actual: ,  Stem: ,\n",
            "Actual: where  Stem: where\n",
            "Actual: Ansu  Stem: ansu\n",
            "Actual: spent  Stem: spent\n",
            "Actual: most  Stem: most\n",
            "Actual: of  Stem: of\n",
            "Actual: his  Stem: hi\n",
            "Actual: childhood  Stem: childhood\n",
            "Actual: and  Stem: and\n",
            "Actual: started  Stem: start\n",
            "Actual: his  Stem: hi\n",
            "Actual: football  Stem: footbal\n",
            "Actual: training  Stem: train\n",
            "Actual: .  Stem: .\n",
            "Actual: Though  Stem: though\n",
            "Actual: born  Stem: born\n",
            "Actual: in  Stem: in\n",
            "Actual: Guinea-Bissau  Stem: guinea-bissau\n",
            "Actual: ,  Stem: ,\n",
            "Actual: Bori  Stem: bori\n",
            "Actual: has  Stem: ha\n",
            "Actual: said  Stem: said\n",
            "Actual: he  Stem: he\n",
            "Actual: is  Stem: is\n",
            "Actual: a  Stem: a\n",
            "Actual: Sevillian  Stem: sevillian\n"
          ],
          "name": "stdout"
        }
      ]
    },
    {
      "cell_type": "code",
      "metadata": {
        "id": "JZvyVASx3wLQ",
        "colab_type": "code",
        "colab": {
          "base_uri": "https://localhost:8080/",
          "height": 1000
        },
        "outputId": "58fbdeb9-747a-47d0-bd69-30607a3d4df7"
      },
      "source": [
        "#lemma\n",
        "import nltk\n",
        "from nltk.stem import WordNetLemmatizer\n",
        "lemma = WordNetLemmatizer()\n",
        "tokens = nltk.word_tokenize(data)\n",
        "for w in tokens:\n",
        "       print(\"Actual: %s :  Lemma: %s\"  % (w, lemma.lemmatize(w)))\n"
      ],
      "execution_count": 14,
      "outputs": [
        {
          "output_type": "stream",
          "text": [
            "Actual: Born :  Lemma: Born\n",
            "Actual: in :  Lemma: in\n",
            "Actual: Guinea-Bissau :  Lemma: Guinea-Bissau\n",
            "Actual: , :  Lemma: ,\n",
            "Actual: Fati :  Lemma: Fati\n",
            "Actual: moved :  Lemma: moved\n",
            "Actual: to :  Lemma: to\n",
            "Actual: Herrera :  Lemma: Herrera\n",
            "Actual: , :  Lemma: ,\n",
            "Actual: Seville :  Lemma: Seville\n",
            "Actual: with :  Lemma: with\n",
            "Actual: his :  Lemma: his\n",
            "Actual: family :  Lemma: family\n",
            "Actual: at :  Lemma: at\n",
            "Actual: the :  Lemma: the\n",
            "Actual: age :  Lemma: age\n",
            "Actual: of :  Lemma: of\n",
            "Actual: six :  Lemma: six\n",
            "Actual: , :  Lemma: ,\n",
            "Actual: when :  Lemma: when\n",
            "Actual: his :  Lemma: his\n",
            "Actual: older :  Lemma: older\n",
            "Actual: brother :  Lemma: brother\n",
            "Actual: Braima :  Lemma: Braima\n",
            "Actual: signed :  Lemma: signed\n",
            "Actual: for :  Lemma: for\n",
            "Actual: Sevilla :  Lemma: Sevilla\n",
            "Actual: . :  Lemma: .\n",
            "Actual: Another :  Lemma: Another\n",
            "Actual: brother :  Lemma: brother\n",
            "Actual: Miguel :  Lemma: Miguel\n",
            "Actual: is :  Lemma: is\n",
            "Actual: also :  Lemma: also\n",
            "Actual: a :  Lemma: a\n",
            "Actual: footballer :  Lemma: footballer\n",
            "Actual: . :  Lemma: .\n",
            "Actual: His :  Lemma: His\n",
            "Actual: father :  Lemma: father\n",
            "Actual: is :  Lemma: is\n",
            "Actual: ex-footballer :  Lemma: ex-footballer\n",
            "Actual: Bori :  Lemma: Bori\n",
            "Actual: Fati :  Lemma: Fati\n",
            "Actual: , :  Lemma: ,\n",
            "Actual: who :  Lemma: who\n",
            "Actual: was :  Lemma: wa\n",
            "Actual: from :  Lemma: from\n",
            "Actual: Guinea-Bissau :  Lemma: Guinea-Bissau\n",
            "Actual: . :  Lemma: .\n",
            "Actual: After :  Lemma: After\n",
            "Actual: emigrating :  Lemma: emigrating\n",
            "Actual: to :  Lemma: to\n",
            "Actual: Portugal :  Lemma: Portugal\n",
            "Actual: , :  Lemma: ,\n",
            "Actual: he :  Lemma: he\n",
            "Actual: set :  Lemma: set\n",
            "Actual: up :  Lemma: up\n",
            "Actual: some :  Lemma: some\n",
            "Actual: teams :  Lemma: team\n",
            "Actual: in :  Lemma: in\n",
            "Actual: the :  Lemma: the\n",
            "Actual: lower :  Lemma: lower\n",
            "Actual: leagues :  Lemma: league\n",
            "Actual: . :  Lemma: .\n",
            "Actual: There :  Lemma: There\n",
            "Actual: , :  Lemma: ,\n",
            "Actual: he :  Lemma: he\n",
            "Actual: read :  Lemma: read\n",
            "Actual: a :  Lemma: a\n",
            "Actual: story :  Lemma: story\n",
            "Actual: of :  Lemma: of\n",
            "Actual: the :  Lemma: the\n",
            "Actual: Andalusian :  Lemma: Andalusian\n",
            "Actual: town :  Lemma: town\n",
            "Actual: Marinaleda :  Lemma: Marinaleda\n",
            "Actual: , :  Lemma: ,\n",
            "Actual: a :  Lemma: a\n",
            "Actual: self-declared :  Lemma: self-declared\n",
            "Actual: communist :  Lemma: communist\n",
            "Actual: utopia :  Lemma: utopia\n",
            "Actual: located :  Lemma: located\n",
            "Actual: near :  Lemma: near\n",
            "Actual: Seville :  Lemma: Seville\n",
            "Actual: , :  Lemma: ,\n",
            "Actual: that :  Lemma: that\n",
            "Actual: was :  Lemma: wa\n",
            "Actual: offering :  Lemma: offering\n",
            "Actual: work :  Lemma: work\n",
            "Actual: to :  Lemma: to\n",
            "Actual: immigrants :  Lemma: immigrant\n",
            "Actual: . :  Lemma: .\n",
            "Actual: After :  Lemma: After\n",
            "Actual: begging :  Lemma: begging\n",
            "Actual: for :  Lemma: for\n",
            "Actual: food :  Lemma: food\n",
            "Actual: on :  Lemma: on\n",
            "Actual: the :  Lemma: the\n",
            "Actual: streets :  Lemma: street\n",
            "Actual: of :  Lemma: of\n",
            "Actual: Marinaleda :  Lemma: Marinaleda\n",
            "Actual: , :  Lemma: ,\n",
            "Actual: he :  Lemma: he\n",
            "Actual: met :  Lemma: met\n",
            "Actual: the :  Lemma: the\n",
            "Actual: mayor :  Lemma: mayor\n",
            "Actual: Juan :  Lemma: Juan\n",
            "Actual: Manuel :  Lemma: Manuel\n",
            "Actual: Sánchez :  Lemma: Sánchez\n",
            "Actual: Gordillo :  Lemma: Gordillo\n",
            "Actual: and :  Lemma: and\n",
            "Actual: found :  Lemma: found\n",
            "Actual: a :  Lemma: a\n",
            "Actual: job :  Lemma: job\n",
            "Actual: as :  Lemma: a\n",
            "Actual: a :  Lemma: a\n",
            "Actual: driver :  Lemma: driver\n",
            "Actual: . :  Lemma: .\n",
            "Actual: He :  Lemma: He\n",
            "Actual: then :  Lemma: then\n",
            "Actual: settled :  Lemma: settled\n",
            "Actual: in :  Lemma: in\n",
            "Actual: the :  Lemma: the\n",
            "Actual: nearby :  Lemma: nearby\n",
            "Actual: town :  Lemma: town\n",
            "Actual: of :  Lemma: of\n",
            "Actual: Herrera :  Lemma: Herrera\n",
            "Actual: , :  Lemma: ,\n",
            "Actual: where :  Lemma: where\n",
            "Actual: Ansu :  Lemma: Ansu\n",
            "Actual: spent :  Lemma: spent\n",
            "Actual: most :  Lemma: most\n",
            "Actual: of :  Lemma: of\n",
            "Actual: his :  Lemma: his\n",
            "Actual: childhood :  Lemma: childhood\n",
            "Actual: and :  Lemma: and\n",
            "Actual: started :  Lemma: started\n",
            "Actual: his :  Lemma: his\n",
            "Actual: football :  Lemma: football\n",
            "Actual: training :  Lemma: training\n",
            "Actual: . :  Lemma: .\n",
            "Actual: Though :  Lemma: Though\n",
            "Actual: born :  Lemma: born\n",
            "Actual: in :  Lemma: in\n",
            "Actual: Guinea-Bissau :  Lemma: Guinea-Bissau\n",
            "Actual: , :  Lemma: ,\n",
            "Actual: Bori :  Lemma: Bori\n",
            "Actual: has :  Lemma: ha\n",
            "Actual: said :  Lemma: said\n",
            "Actual: he :  Lemma: he\n",
            "Actual: is :  Lemma: is\n",
            "Actual: a :  Lemma: a\n",
            "Actual: Sevillian :  Lemma: Sevillian\n"
          ],
          "name": "stdout"
        }
      ]
    },
    {
      "cell_type": "code",
      "metadata": {
        "id": "ePDMIohA4DKy",
        "colab_type": "code",
        "colab": {}
      },
      "source": [
        ""
      ],
      "execution_count": null,
      "outputs": []
    }
  ]
}